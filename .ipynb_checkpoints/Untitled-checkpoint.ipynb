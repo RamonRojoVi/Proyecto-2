{
 "cells": [
  {
   "cell_type": "markdown",
   "id": "259984c2",
   "metadata": {},
   "source": [
    "\n",
    "# Proyecto colaborativo\n",
    "\n",
    "\n",
    "### 1.2 Introducción\n",
    "Se presentaran unos problemas sobre la carrera de ingenieria civil estos seran resuletos con los metodos vistos en clase de simulacion matematica \n",
    "\n",
    "### 1.3 Objetivos.\n",
    "\n",
    "#### Realizar análisis de precio-umbral para mínimo 4 acciones\n",
    "#### Solucionar por medio de la aproximación montecarlo algún problema físico que se modele con integrales múltiples\n",
    "\n",
    "### 1.4 Modelo que representa el problema.\n",
    "#### Problema1\n",
    "**Integración Montecarlo**\n",
    "\n",
    "$\n",
    "y(x_{k+1})=y(x_k)+\\int_{x_k}^{x_{k+1}}f(x,y)\n",
    "$\n",
    "\n",
    "donde $f(x,y)=\\frac{dy}{dx}$.\n",
    "\n",
    "Se encontrara la secuencia de $y(x)$ en el intervalo $0.1\\leq x\\leq1.1$ con un paso de integración de $x_{k+1}-x_k=0.2$, es decir encuentre $y(x)=[y(0.1),y(0.3),y(0.5),y(0.7),y(0.9),y(1.1)]$, para la siguiente ecuación diferencial:\n",
    "$$\n",
    "f(x,y)=\\frac{dy}{dx}=\\frac{\\ln(2+\\sin(2x^2))}{xe^{-x^3}},\\quad y(0.1)=0.1.\n",
    "$$\n",
    "\n",
    "Para cada intervalo ($0.1\\leq x\\leq0.3$, $0.3\\leq x\\leq0.5$, $0.5\\leq x\\leq0.7$, $0.7\\leq x\\leq0.9$, $0.9\\leq x\\leq1.1$), usando integración montecarlo con 10,000,000 unidades. \n",
    "\n",
    "#### Problema 2\n",
    "desea invertir en **Spotify** o **Mercado Libre**\n",
    "Obtenga los precios de cierre ajustados para Spotify y Mercado Libre desde el 4 de noviembre de 2019 al 4 de noviembre de 2021.\n",
    "\n",
    "### 1.5 Solución del problema.\n"
   ]
  },
  {
   "cell_type": "markdown",
   "id": "b8b9947e",
   "metadata": {},
   "source": [
    "#### Problema 1"
   ]
  },
  {
   "cell_type": "code",
   "execution_count": null,
   "id": "b9f949d5",
   "metadata": {},
   "outputs": [],
   "source": [
    "import numpy as np\n",
    "def montecarlo_tipo1(f, a, b, N):\n",
    "    u = np.random.uniform(a,b,N)\n",
    "    return ((b-a)/N)*f(u).sum()\n",
    "\n",
    "#función a integrar con argumentos de entrada 𝑥 y que regrese el valor de la función  𝑓(𝑥,𝑦)=𝑑𝑦𝑑𝑥\n",
    "\n",
    "def f(x):\n",
    "    return (np.log(2+np.sin(2*x**2)))/(x*np.exp(-x**3))"
   ]
  },
  {
   "cell_type": "code",
   "execution_count": 15,
   "id": "93f1e1e9",
   "metadata": {},
   "outputs": [
    {
     "name": "stdout",
     "output_type": "stream",
     "text": [
      "0.8070021951584823\n",
      "0.45552958574850555\n",
      "0.40814382583303344\n",
      "0.45572791892154324\n",
      "0.5836895745266638\n"
     ]
    }
   ],
   "source": [
    "# aproximación de las 5 integrales con sus respectivos intervalos\n",
    "\n",
    "y1 = montecarlo_tipo1(f, 0.1, 0.3, 10000000)\n",
    "print(y1)\n",
    "\n",
    "y2 = montecarlo_tipo1(f, 0.3, 0.5, 10000000)\n",
    "print(y2)\n",
    "\n",
    "y3 = montecarlo_tipo1(f, 0.5, 0.7, 10000000)\n",
    "print(y3)\n",
    "\n",
    "y4 = montecarlo_tipo1(f, 0.7, 0.9, 10000000)\n",
    "print(y4)\n",
    "\n",
    "y5 = montecarlo_tipo1(f, 0.9, 1.1, 10000000)\n",
    "print(y5)\n",
    "\n"
   ]
  },
  {
   "cell_type": "code",
   "execution_count": 12,
   "id": "d488576f",
   "metadata": {},
   "outputs": [
    {
     "data": {
      "text/plain": [
       "0.1"
      ]
     },
     "execution_count": 12,
     "metadata": {},
     "output_type": "execute_result"
    }
   ],
   "source": [
    "#secuencia de valores para  𝑦(𝑥) que encontró\n",
    "y01 = 0.1\n",
    "y01"
   ]
  },
  {
   "cell_type": "code",
   "execution_count": 6,
   "id": "c1407bb8",
   "metadata": {},
   "outputs": [
    {
     "data": {
      "text/plain": [
       "0.9071123442212529"
      ]
     },
     "execution_count": 6,
     "metadata": {},
     "output_type": "execute_result"
    }
   ],
   "source": [
    "y03 = y01 + y1\n",
    "y03"
   ]
  },
  {
   "cell_type": "code",
   "execution_count": 7,
   "id": "0a306c8b",
   "metadata": {},
   "outputs": [
    {
     "data": {
      "text/plain": [
       "1.3626371486802604"
      ]
     },
     "execution_count": 7,
     "metadata": {},
     "output_type": "execute_result"
    }
   ],
   "source": [
    "y05 = y03 + y2\n",
    "y05"
   ]
  },
  {
   "cell_type": "code",
   "execution_count": 8,
   "id": "09ac6338",
   "metadata": {},
   "outputs": [
    {
     "data": {
      "text/plain": [
       "1.770781523480484"
      ]
     },
     "execution_count": 8,
     "metadata": {},
     "output_type": "execute_result"
    }
   ],
   "source": [
    "y07 = y05 + y3\n",
    "y07"
   ]
  },
  {
   "cell_type": "code",
   "execution_count": 9,
   "id": "f8764aab",
   "metadata": {},
   "outputs": [
    {
     "data": {
      "text/plain": [
       "2.22652819144197"
      ]
     },
     "execution_count": 9,
     "metadata": {},
     "output_type": "execute_result"
    }
   ],
   "source": [
    "y09 = y07 + y4\n",
    "y09"
   ]
  },
  {
   "cell_type": "code",
   "execution_count": 10,
   "id": "afdc7d56",
   "metadata": {},
   "outputs": [
    {
     "data": {
      "text/plain": [
       "2.8102193841925525"
      ]
     },
     "execution_count": 10,
     "metadata": {},
     "output_type": "execute_result"
    }
   ],
   "source": [
    "y11 = y09 + y5\n",
    "y11"
   ]
  },
  {
   "cell_type": "code",
   "execution_count": 11,
   "id": "51fb8b9c",
   "metadata": {},
   "outputs": [
    {
     "data": {
      "text/plain": [
       "[0.1,\n",
       " 0.9071123442212529,\n",
       " 1.3626371486802604,\n",
       " 1.770781523480484,\n",
       " 2.22652819144197,\n",
       " 2.8102193841925525]"
      ]
     },
     "execution_count": 11,
     "metadata": {},
     "output_type": "execute_result"
    }
   ],
   "source": [
    "Secuencia = [y01,y03,y05,y07,y09,y11]\n",
    "Secuencia"
   ]
  },
  {
   "cell_type": "markdown",
   "id": "378886c0",
   "metadata": {},
   "source": [
    "#### Problema 2"
   ]
  },
  {
   "cell_type": "code",
   "execution_count": null,
   "id": "567b3a7a",
   "metadata": {},
   "outputs": [],
   "source": [
    "import pandas as pd\n",
    "import pandas_datareader.data as web"
   ]
  },
  {
   "cell_type": "code",
   "execution_count": null,
   "id": "c7ffa19d",
   "metadata": {},
   "outputs": [],
   "source": [
    "def getCloses(name,start,end):\n",
    "    return web.DataReader(names,'yahoo',start,end)['Adj Close']"
   ]
  },
  {
   "cell_type": "code",
   "execution_count": 19,
   "id": "b6fbd233",
   "metadata": {},
   "outputs": [
    {
     "ename": "NameError",
     "evalue": "name 'web' is not defined",
     "output_type": "error",
     "traceback": [
      "\u001b[1;31m---------------------------------------------------------------------------\u001b[0m",
      "\u001b[1;31mNameError\u001b[0m                                 Traceback (most recent call last)",
      "Cell \u001b[1;32mIn[19], line 4\u001b[0m\n\u001b[0;32m      2\u001b[0m start \u001b[38;5;241m=\u001b[39m \u001b[38;5;124m'\u001b[39m\u001b[38;5;124m2019-11-04\u001b[39m\u001b[38;5;124m'\u001b[39m\n\u001b[0;32m      3\u001b[0m end\u001b[38;5;241m=\u001b[39m\u001b[38;5;124m'\u001b[39m\u001b[38;5;124m2021-11-04\u001b[39m\u001b[38;5;124m'\u001b[39m\n\u001b[1;32m----> 4\u001b[0m data \u001b[38;5;241m=\u001b[39m getCloses(names,start,end)\n\u001b[0;32m      5\u001b[0m data\n",
      "Cell \u001b[1;32mIn[17], line 2\u001b[0m, in \u001b[0;36mgetCloses\u001b[1;34m(name, start, end)\u001b[0m\n\u001b[0;32m      1\u001b[0m \u001b[38;5;28;01mdef\u001b[39;00m \u001b[38;5;21mgetCloses\u001b[39m(name,start,end):\n\u001b[1;32m----> 2\u001b[0m     \u001b[38;5;28;01mreturn\u001b[39;00m web\u001b[38;5;241m.\u001b[39mDataReader(names,\u001b[38;5;124m'\u001b[39m\u001b[38;5;124myahoo\u001b[39m\u001b[38;5;124m'\u001b[39m,start,end)[\u001b[38;5;124m'\u001b[39m\u001b[38;5;124mAdj Close\u001b[39m\u001b[38;5;124m'\u001b[39m]\n",
      "\u001b[1;31mNameError\u001b[0m: name 'web' is not defined"
     ]
    }
   ],
   "source": [
    "names = ['SPOT','MELI']\n",
    "start = '2019-11-04'\n",
    "end='2021-11-04'\n",
    "data = getCloses(names,start,end)\n",
    "data"
   ]
  },
  {
   "cell_type": "markdown",
   "id": "8016ae8b",
   "metadata": {},
   "source": [
    "\n",
    "### 1.7 Conclusiones.\n",
    "> Mucho cuidado, las conclusiones no son cualquier cosa. Se debe concluir respecto a los objetivos planteados de acuerdo a los resultados obtenidos.\n",
    "\n",
    "### 1.8 Referencias.\n"
   ]
  },
  {
   "cell_type": "code",
   "execution_count": null,
   "id": "34b14f2f",
   "metadata": {},
   "outputs": [],
   "source": []
  }
 ],
 "metadata": {
  "kernelspec": {
   "display_name": "Python 3 (ipykernel)",
   "language": "python",
   "name": "python3"
  },
  "language_info": {
   "codemirror_mode": {
    "name": "ipython",
    "version": 3
   },
   "file_extension": ".py",
   "mimetype": "text/x-python",
   "name": "python",
   "nbconvert_exporter": "python",
   "pygments_lexer": "ipython3",
   "version": "3.11.4"
  }
 },
 "nbformat": 4,
 "nbformat_minor": 5
}
